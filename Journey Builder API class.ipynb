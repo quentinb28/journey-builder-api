{
 "cells": [
  {
   "cell_type": "code",
   "execution_count": 7,
   "id": "be514016",
   "metadata": {},
   "outputs": [],
   "source": [
    "import requests\n",
    "import json\n",
    "import time\n",
    "import datetime\n",
    "from math import *\n",
    "import sys\n",
    "import functools\n",
    "import warnings\n",
    "warnings.filterwarnings('ignore')"
   ]
  },
  {
   "cell_type": "code",
   "execution_count": 8,
   "id": "5d450ac2",
   "metadata": {},
   "outputs": [],
   "source": [
    "# Retrieve login parameters from config file\n",
    "with open(\"config.json\") as credentials:\n",
    "    credentials = json.load(credentials)\n",
    "\n",
    "client_id = credentials[\"client_id\"]\n",
    "client_secret = credentials[\"client_secret\"]"
   ]
  },
  {
   "cell_type": "code",
   "execution_count": 23,
   "id": "2061c23f",
   "metadata": {},
   "outputs": [],
   "source": [
    "class JourneyBuilder:\n",
    "\n",
    "    def __init__(self, client_id, client_secret, journey_name):\n",
    "        # the function that is executed when\n",
    "        # an instance of the class is created\n",
    "        self.client_id = client_id\n",
    "        self.client_secret = client_secret\n",
    "        self.journey_name = journey_name\n",
    "        \n",
    "        self.auth_url = \"https://mc42bdlx7mz5h4np2xxvhsb4scvq.auth.marketingcloudapis.com/v2/token\"\n",
    "        self.auth_headers = {\"content-type\": \"application/json\"}\n",
    "        self.auth_payload = {\n",
    "            \"grant_type\": \"client_credentials\",\n",
    "            \"client_id\": self.client_id,\n",
    "            \"client_secret\": self.client_secret\n",
    "        }\n",
    "        \n",
    "        self.rest_url = \"https://mc42bdlx7mz5h4np2xxvhsb4scvq.rest.marketingcloudapis.com\"\n",
    "\n",
    "        try:\n",
    "            self.access_token, self.access_token_expiration, self.rest_headers = self.getAccessToken()\n",
    "            if self.access_token is None:\n",
    "                raise Exception(\"Request for access token failed.\")\n",
    "        except Exception as e:\n",
    "            print(e)\n",
    "\n",
    "    def getAccessToken(self):\n",
    "        # the function that is \n",
    "        # used to request the JWT\n",
    "        try:\n",
    "            # request an access token\n",
    "            authentication_response = requests.post(\n",
    "                url=self.auth_url, data=json.dumps(self.auth_payload), headers=self.auth_headers, verify=False)\n",
    "\n",
    "            # optional: raise exception for status code\n",
    "            authentication_response.raise_for_status()\n",
    "        except Exception as e:\n",
    "            print(e)\n",
    "            return None\n",
    "        else:\n",
    "            # assuming the response's structure is\n",
    "            # {\"access_token\": \"\"}\n",
    "            access_token = authentication_response.json()['access_token']\n",
    "            access_token_expiration = authentication_response.json()['expires_in']\n",
    "            rest_headers = {\"authorization\": f\"Bearer {access_token}\"}\n",
    "            return access_token, access_token_expiration, rest_headers\n",
    "    \n",
    "    class Decorators():\n",
    "        @staticmethod\n",
    "        def refreshToken(decorated):\n",
    "            # Decorator function\n",
    "            # If func (e.g. pause_journey_version) is passed to @Decorators.refreshToken\n",
    "            # Then token gets refreshed if expired\n",
    "            # Wrapper returns func response\n",
    "            def wrapper(api,*args,**kwargs):\n",
    "                if time.time() > api.access_token_expiration:\n",
    "                    api.access_token, api.access_token_expiration, api.rest_headers = api.getAccessToken()\n",
    "                return decorated(api,*args,**kwargs)\n",
    "\n",
    "            return wrapper\n",
    "\n",
    "    @Decorators.refreshToken\n",
    "    def get_metadata(self, *args):\n",
    "        # Request gets all the journeys in a dict\n",
    "        # Get values when name key == \"journey_name\"\n",
    "        r = requests.get(\n",
    "            url=f\"{self.rest_url}/interaction/v1/interactions/\",\n",
    "            headers=self.rest_headers\n",
    "        )\n",
    "\n",
    "        return [[journey[arg] for journey in json.loads(r.content)[\"items\"]\n",
    "                 if journey[\"name\"] == self.journey_name][0] for arg in args]\n",
    "    \n",
    "    @Decorators.refreshToken\n",
    "    def get_activities_by_id(self, journey_id):\n",
    "        # Request gets all activities within journey based on id\n",
    "        try:\n",
    "            r = requests.get(\n",
    "                url=f'{self.rest_url}/interaction/v1/interactions/{journey_id}',\n",
    "                headers=self.rest_headers\n",
    "            )\n",
    "            return json.loads(r.content)\n",
    "        except ConnectionError as e:\n",
    "            print(e)\n",
    "    \n",
    "    @Decorators.refreshToken\n",
    "    def change_status(self, journey_id, journey_version, action):\n",
    "        # API needs journey id + version to pause\n",
    "        try:\n",
    "            r = requests.post(\n",
    "                url=f\"{self.rest_url}/interaction/v1/interactions/{action}/{journey_id}?versionNumber={journey_version}\",\n",
    "                headers=self.rest_headers\n",
    "            )\n",
    "        except ConnectionError as e:\n",
    "            print(e)\n",
    "            \n",
    "    @Decorators.refreshToken\n",
    "    def update_journey_version(self, journey_id, journey_version, new_perc):\n",
    "        # Pause journey version\n",
    "        self.change_status(journey_id, journey_version, \"pause\")\n",
    "        print(f\"Journey: {journey_id, journey_version} PAUSED SUCCESSFULLY!\")\n",
    "        \n",
    "        # Update journey version\n",
    "        new_version_journey_activities = self.update_journey_perc(journey_activities, new_perc)\n",
    "        \n",
    "        try:\n",
    "            r = requests.put(\n",
    "                url=f'{self.rest_url}/interaction/v1/interactions',\n",
    "                headers=self.rest_headers,\n",
    "                data=json.dumps(new_version_journey_activities)\n",
    "            )\n",
    "            print(f\"Journey: {journey_id, journey_version} UPDATED SUCCESSFULLY!\")\n",
    "        except ConnectionError as e:\n",
    "            print(e)\n",
    "            \n",
    "        # status needs to be \"Paused\" and not \"Pausing\" \n",
    "        # API requires some time to do that\n",
    "        time.sleep(300) \n",
    "        \n",
    "        # Resume journey version\n",
    "        self.change_status(journey_id, journey_version, \"resume\")\n",
    "        print(f\"Journey: {journey_id, journey_version} RESUMED SUCCESSFULLY!\")\n",
    "            \n",
    "    @staticmethod\n",
    "    def update_journey_perc(journey_activities, new_perc):\n",
    "        # Update journey version data with new perc\n",
    "        journey_activities[\"activities\"][0][\"outcomes\"][0][\"arguments\"][\"percentage\"] = str(new_perc)\n",
    "        journey_activities[\"activities\"][0][\"outcomes\"][0][\"metaData\"][\"label\"] = str(new_perc) + \"%\"\n",
    "        journey_activities[\"activities\"][0][\"outcomes\"][1][\"arguments\"][\"percentage\"] = str(100-new_perc)\n",
    "        journey_activities[\"activities\"][0][\"outcomes\"][1][\"metaData\"][\"label\"] = str(100-new_perc) + \"%\"\n",
    "        return journey_activities"
   ]
  },
  {
   "cell_type": "code",
   "execution_count": 24,
   "id": "0101c4ca",
   "metadata": {},
   "outputs": [],
   "source": [
    "test = JourneyBuilder(client_id, client_secret, \"test_2910\")"
   ]
  },
  {
   "cell_type": "code",
   "execution_count": 25,
   "id": "cb5f713f",
   "metadata": {},
   "outputs": [
    {
     "data": {
      "text/plain": [
       "('e1906618-b1e6-4649-a159-1e382cc483c6', 1, 'Published')"
      ]
     },
     "execution_count": 25,
     "metadata": {},
     "output_type": "execute_result"
    }
   ],
   "source": [
    "id, version, status = test.get_metadata(\"id\", \"version\", \"status\")\n",
    "id, version, status"
   ]
  },
  {
   "cell_type": "code",
   "execution_count": 40,
   "id": "69dec998",
   "metadata": {},
   "outputs": [
    {
     "name": "stdout",
     "output_type": "stream",
     "text": [
      "Journey: ('e1906618-b1e6-4649-a159-1e382cc483c6', 1) PAUSED SUCCESSFULLY!\n",
      "{'id': 'e1906618-b1e6-4649-a159-1e382cc483c6', 'key': 'efe39a6b-de1d-a04a-dd3f-e546e67150a1', 'name': 'test_2910', 'lastPublishedDate': '2021-10-29T03:44:48', 'description': '', 'version': 1, 'workflowApiVersion': 1.0, 'createdDate': '2021-10-29T03:44:30.693', 'modifiedDate': '2021-10-29T05:32:12.823', 'activities': [{'id': '78a50523-72ac-45db-8268-75a6f969c628', 'key': 'RANDOMSPLITV2-1', 'name': '', 'description': '', 'type': 'RANDOMSPLIT', 'outcomes': [{'key': 'branchResult-1', 'next': 'WAITBYDURATION-1', 'arguments': {'percentage': '75'}, 'metaData': {'label': '75%', 'pathName': 'Path 1', 'invalid': False}}, {'key': 'branchResult-2', 'next': 'WAITBYDURATION-2', 'arguments': {'percentage': '25'}, 'metaData': {'label': '25%', 'pathName': 'Path 2', 'invalid': False}}], 'arguments': {}, 'configurationArguments': {}, 'metaData': {'icon': '/extensions/activities/random-split/images/randomsplit.svg', 'iconSmall': '/extensions/activities/random-split/images/randomsplit.svg', 'category': 'flow', 'isConfigured': True, 'original_icon': '/extensions/activities/random-split/images/randomsplit.svg', 'original_iconSmall': '/extensions/activities/random-split/images/randomsplit.svg', 'original_statsContactIcon': '', 'statsContactIcon': ''}, 'schema': {'arguments': {'randomNumber': {'dataType': 'Number', 'isNullable': False, 'direction': 'Out', 'readOnly': False, 'access': 'Hidden'}, 'actualChoice': {'dataType': 'Number', 'isNullable': False, 'direction': 'Out', 'readOnly': False, 'access': 'Hidden'}}}}, {'id': 'f7a44a66-3a00-45c4-8b51-37f1b5f42ea7', 'key': 'WAITBYDURATION-1', 'name': '', 'description': '', 'type': 'WAIT', 'outcomes': [{'key': '226ec6c2-866d-4993-9807-5584d3b38a90', 'arguments': {}, 'metaData': {'invalid': False}}], 'arguments': {'waitEndDateAttributeDataBound': '', 'waitDefinitionId': '9eeebe76-a833-49e2-b3f1-98d7bc45426e', 'waitForEventId': '', 'executionMode': '{{Context.ExecutionMode}}', 'startActivityKey': '{{Context.StartActivityKey}}', 'waitQueueId': '{{Context.WaitQueueId}}'}, 'configurationArguments': {'waitDuration': 1, 'waitUnit': 'DAYS', 'specifiedTime': '', 'timeZone': '', 'description': '', 'waitEndDateAttributeExpression': '', 'specificDate': '', 'waitForEventKey': ''}, 'metaData': {'isConfigured': True, 'uiType': 'WAITBYDURATION'}, 'schema': {'arguments': {'endDate': {'dataType': 'Date', 'isNullable': False, 'direction': 'Out', 'readOnly': False, 'access': 'Hidden'}, 'waitEndDateAttributeDataBound': {'dataType': 'Text', 'isNullable': True, 'direction': 'In', 'readOnly': False, 'access': 'Hidden'}, 'waitDefinitionId': {'dataType': 'Text', 'isNullable': False, 'direction': 'In', 'readOnly': False, 'access': 'Hidden'}, 'waitForEventId': {'dataType': 'Text', 'isNullable': True, 'direction': 'In', 'readOnly': False, 'access': 'Hidden'}, 'executionMode': {'dataType': 'Text', 'isNullable': False, 'direction': 'In', 'readOnly': False, 'access': 'Hidden'}, 'startActivityKey': {'dataType': 'Text', 'isNullable': True, 'direction': 'In', 'readOnly': False, 'access': 'Hidden'}, 'waitQueueId': {'dataType': 'LongNumber', 'isNullable': True, 'direction': 'In', 'readOnly': False, 'access': 'Hidden'}}}}, {'id': '0648e981-76d3-4866-b9f8-e45afc0f72a0', 'key': 'WAITBYDURATION-2', 'name': '', 'description': '', 'type': 'WAIT', 'outcomes': [{'key': 'b2e62105-0537-4002-9095-5843125e78b5', 'arguments': {}, 'metaData': {'invalid': False}}], 'arguments': {'waitEndDateAttributeDataBound': '', 'waitDefinitionId': 'aa8b7bf9-6c0d-4260-b31f-f7d2fd4b696d', 'waitForEventId': '', 'executionMode': '{{Context.ExecutionMode}}', 'startActivityKey': '{{Context.StartActivityKey}}', 'waitQueueId': '{{Context.WaitQueueId}}'}, 'configurationArguments': {'waitDuration': 1, 'waitUnit': 'DAYS', 'specifiedTime': '', 'timeZone': '', 'description': '', 'waitEndDateAttributeExpression': '', 'specificDate': '', 'waitForEventKey': ''}, 'metaData': {'isConfigured': True, 'uiType': 'WAITBYDURATION'}, 'schema': {'arguments': {'endDate': {'dataType': 'Date', 'isNullable': False, 'direction': 'Out', 'readOnly': False, 'access': 'Hidden'}, 'waitEndDateAttributeDataBound': {'dataType': 'Text', 'isNullable': True, 'direction': 'In', 'readOnly': False, 'access': 'Hidden'}, 'waitDefinitionId': {'dataType': 'Text', 'isNullable': False, 'direction': 'In', 'readOnly': False, 'access': 'Hidden'}, 'waitForEventId': {'dataType': 'Text', 'isNullable': True, 'direction': 'In', 'readOnly': False, 'access': 'Hidden'}, 'executionMode': {'dataType': 'Text', 'isNullable': False, 'direction': 'In', 'readOnly': False, 'access': 'Hidden'}, 'startActivityKey': {'dataType': 'Text', 'isNullable': True, 'direction': 'In', 'readOnly': False, 'access': 'Hidden'}, 'waitQueueId': {'dataType': 'LongNumber', 'isNullable': True, 'direction': 'In', 'readOnly': False, 'access': 'Hidden'}}}}], 'triggers': [{'id': '7b03246d-d9e1-4d20-ba1c-afee79f3d2ec', 'key': 'TRIGGER', 'name': 'TRIGGER', 'description': '', 'type': 'EmailAudience', 'outcomes': [], 'arguments': {'startActivityKey': '{{Context.StartActivityKey}}', 'dequeueReason': '{{Context.DequeueReason}}', 'lastExecutedActivityKey': '{{Context.LastExecutedActivityKey}}', 'filterResult': 'true'}, 'configurationArguments': {'schemaVersionId': 0, 'criteria': '', 'filterDefinitionId': '00000000-0000-0000-0000-000000000000'}, 'metaData': {'eventDefinitionId': '71e7797f-f30b-4317-86da-e4150e351639', 'eventDefinitionKey': 'DEAudience-4a1ac331-4e53-5c7d-f7cd-4b1dc552a5dd', 'chainType': 'None', 'configurationRequired': False, 'iconUrl': '/images/icon-data-extension.svg', 'title': 'Data Extension', 'entrySourceGroupConfigUrl': 'jb:///data/entry/audience/entrysourcegroupconfig.json', 'sourceInteractionId': '00000000-0000-0000-0000-000000000000'}}], 'goals': [], 'exits': [], 'notifiers': [], 'stats': {'currentPopulation': 0, 'cumulativePopulation': 0, 'metGoal': 0, 'metExitCriteria': 0, 'goalPerformance': 0.0}, 'entryMode': 'OnceAndDone', 'definitionType': 'Multistep', 'channel': '', 'defaults': {'mobileNumber': ['{{Event.DEAudience-4a1ac331-4e53-5c7d-f7cd-4b1dc552a5dd.\"phone_number\"}}'], 'properties': {'analyticsTracking': {'enabled': False, 'analyticsType': 'google', 'urlDomainsToTrack': []}}}, 'metaData': {}, 'executionMode': 'Production', 'categoryId': 64168, 'status': 'Pausing', 'definitionId': 'e1906618-b1e6-4649-a159-1e382cc483c6', 'pauseOptions': {'processExitCriteria': False, 'processWaitUntilEvents': False, 'extendWaitEndDates': False, 'retainContactInjectionWhileJourneyPaused': False, 'pausedDays': 3, 'pauseType': 1, 'originalStatus': 'Published', 'guardrailAction': 'None', 'originalDefinitionId': 'e1906618-b1e6-4649-a159-1e382cc483c6'}, 'pauseDetails': {'pauseBeginTime': '2021-10-29T05:32:12.823', 'pauseEndTime': '0001-01-01T00:00:00', 'resumeBeginTime': '0001-01-01T00:00:00', 'resumeEndTime': '0001-01-01T00:00:00', 'guardrailTime': '2021-11-01T05:32:12.833'}, 'scheduledStatus': 'Draft'}\n",
      "Journey: ('e1906618-b1e6-4649-a159-1e382cc483c6', 1) UPDATED SUCCESSFULLY!\n",
      "{'id': 'e1906618-b1e6-4649-a159-1e382cc483c6', 'key': 'efe39a6b-de1d-a04a-dd3f-e546e67150a1', 'name': 'test_2910', 'lastPublishedDate': '2021-10-29T03:44:48', 'description': '', 'version': 1, 'workflowApiVersion': 1.0, 'createdDate': '2021-10-29T03:44:30.693', 'modifiedDate': '2021-10-29T05:32:14.933', 'activities': [{'id': '5a787041-a97c-48af-bc04-51d678d5775f', 'key': 'RANDOMSPLITV2-1', 'name': '', 'description': '', 'type': 'RANDOMSPLIT', 'outcomes': [{'key': 'branchResult-1', 'next': 'WAITBYDURATION-1', 'arguments': {'percentage': '33'}, 'metaData': {'label': '33%', 'pathName': 'Path 1', 'invalid': False}}, {'key': 'branchResult-2', 'next': 'WAITBYDURATION-2', 'arguments': {'percentage': '67'}, 'metaData': {'label': '67%', 'pathName': 'Path 2', 'invalid': False}}], 'arguments': {}, 'configurationArguments': {}, 'metaData': {'icon': '/extensions/activities/random-split/images/randomsplit.svg', 'iconSmall': '/extensions/activities/random-split/images/randomsplit.svg', 'category': 'flow', 'isConfigured': True, 'original_icon': '/extensions/activities/random-split/images/randomsplit.svg', 'original_iconSmall': '/extensions/activities/random-split/images/randomsplit.svg', 'original_statsContactIcon': '', 'statsContactIcon': ''}, 'schema': {'arguments': {'randomNumber': {'dataType': 'Number', 'isNullable': False, 'direction': 'Out', 'readOnly': False, 'access': 'Hidden'}, 'actualChoice': {'dataType': 'Number', 'isNullable': False, 'direction': 'Out', 'readOnly': False, 'access': 'Hidden'}}}}, {'id': 'd2610d11-66aa-444e-96d2-1c7526994c15', 'key': 'WAITBYDURATION-1', 'name': '', 'description': '', 'type': 'WAIT', 'outcomes': [{'key': '226ec6c2-866d-4993-9807-5584d3b38a90', 'arguments': {}, 'metaData': {'invalid': False}}], 'arguments': {'waitEndDateAttributeDataBound': '', 'waitDefinitionId': '9eeebe76-a833-49e2-b3f1-98d7bc45426e', 'waitForEventId': '', 'executionMode': '{{Context.ExecutionMode}}', 'startActivityKey': '{{Context.StartActivityKey}}', 'waitQueueId': '{{Context.WaitQueueId}}'}, 'configurationArguments': {'waitDuration': 1, 'waitUnit': 'DAYS', 'specifiedTime': '', 'timeZone': '', 'description': '', 'waitEndDateAttributeExpression': '', 'specificDate': '', 'waitForEventKey': ''}, 'metaData': {'isConfigured': True, 'uiType': 'WAITBYDURATION'}, 'schema': {'arguments': {'endDate': {'dataType': 'Date', 'isNullable': False, 'direction': 'Out', 'readOnly': False, 'access': 'Hidden'}, 'waitEndDateAttributeDataBound': {'dataType': 'Text', 'isNullable': True, 'direction': 'In', 'readOnly': False, 'access': 'Hidden'}, 'waitDefinitionId': {'dataType': 'Text', 'isNullable': False, 'direction': 'In', 'readOnly': False, 'access': 'Hidden'}, 'waitForEventId': {'dataType': 'Text', 'isNullable': True, 'direction': 'In', 'readOnly': False, 'access': 'Hidden'}, 'executionMode': {'dataType': 'Text', 'isNullable': False, 'direction': 'In', 'readOnly': False, 'access': 'Hidden'}, 'startActivityKey': {'dataType': 'Text', 'isNullable': True, 'direction': 'In', 'readOnly': False, 'access': 'Hidden'}, 'waitQueueId': {'dataType': 'LongNumber', 'isNullable': True, 'direction': 'In', 'readOnly': False, 'access': 'Hidden'}}}}, {'id': '1df29011-071f-40cc-875f-617b5facaed0', 'key': 'WAITBYDURATION-2', 'name': '', 'description': '', 'type': 'WAIT', 'outcomes': [{'key': 'b2e62105-0537-4002-9095-5843125e78b5', 'arguments': {}, 'metaData': {'invalid': False}}], 'arguments': {'waitEndDateAttributeDataBound': '', 'waitDefinitionId': 'aa8b7bf9-6c0d-4260-b31f-f7d2fd4b696d', 'waitForEventId': '', 'executionMode': '{{Context.ExecutionMode}}', 'startActivityKey': '{{Context.StartActivityKey}}', 'waitQueueId': '{{Context.WaitQueueId}}'}, 'configurationArguments': {'waitDuration': 1, 'waitUnit': 'DAYS', 'specifiedTime': '', 'timeZone': '', 'description': '', 'waitEndDateAttributeExpression': '', 'specificDate': '', 'waitForEventKey': ''}, 'metaData': {'isConfigured': True, 'uiType': 'WAITBYDURATION'}, 'schema': {'arguments': {'endDate': {'dataType': 'Date', 'isNullable': False, 'direction': 'Out', 'readOnly': False, 'access': 'Hidden'}, 'waitEndDateAttributeDataBound': {'dataType': 'Text', 'isNullable': True, 'direction': 'In', 'readOnly': False, 'access': 'Hidden'}, 'waitDefinitionId': {'dataType': 'Text', 'isNullable': False, 'direction': 'In', 'readOnly': False, 'access': 'Hidden'}, 'waitForEventId': {'dataType': 'Text', 'isNullable': True, 'direction': 'In', 'readOnly': False, 'access': 'Hidden'}, 'executionMode': {'dataType': 'Text', 'isNullable': False, 'direction': 'In', 'readOnly': False, 'access': 'Hidden'}, 'startActivityKey': {'dataType': 'Text', 'isNullable': True, 'direction': 'In', 'readOnly': False, 'access': 'Hidden'}, 'waitQueueId': {'dataType': 'LongNumber', 'isNullable': True, 'direction': 'In', 'readOnly': False, 'access': 'Hidden'}}}}], 'triggers': [{'id': '83c63ad7-32d5-475a-b5ed-cb4c86ff7c6b', 'key': 'TRIGGER', 'name': 'TRIGGER', 'description': '', 'type': 'EmailAudience', 'outcomes': [], 'arguments': {'startActivityKey': '{{Context.StartActivityKey}}', 'dequeueReason': '{{Context.DequeueReason}}', 'lastExecutedActivityKey': '{{Context.LastExecutedActivityKey}}', 'filterResult': 'true'}, 'configurationArguments': {'schemaVersionId': 0, 'criteria': '', 'filterDefinitionId': '00000000-0000-0000-0000-000000000000'}, 'metaData': {'eventDefinitionId': '71e7797f-f30b-4317-86da-e4150e351639', 'eventDefinitionKey': 'DEAudience-4a1ac331-4e53-5c7d-f7cd-4b1dc552a5dd', 'chainType': 'None', 'configurationRequired': False, 'iconUrl': '/images/icon-data-extension.svg', 'title': 'Data Extension', 'entrySourceGroupConfigUrl': 'jb:///data/entry/audience/entrysourcegroupconfig.json', 'sourceInteractionId': '00000000-0000-0000-0000-000000000000'}}], 'goals': [], 'exits': [], 'notifiers': [], 'stats': {'currentPopulation': 0, 'cumulativePopulation': 0, 'metGoal': 0, 'metExitCriteria': 0, 'goalPerformance': 0.0}, 'entryMode': 'OnceAndDone', 'definitionType': 'Multistep', 'channel': '', 'defaults': {'mobileNumber': ['{{Event.DEAudience-4a1ac331-4e53-5c7d-f7cd-4b1dc552a5dd.\"phone_number\"}}'], 'properties': {'analyticsTracking': {'enabled': False, 'analyticsType': 'google', 'urlDomainsToTrack': []}}}, 'metaData': {}, 'executionMode': 'Production', 'categoryId': 64168, 'status': 'Pausing', 'definitionId': 'e1906618-b1e6-4649-a159-1e382cc483c6', 'pauseOptions': {'processExitCriteria': False, 'processWaitUntilEvents': False, 'extendWaitEndDates': False, 'retainContactInjectionWhileJourneyPaused': False, 'pausedDays': 3, 'pauseType': 1, 'originalStatus': 'Published', 'guardrailAction': 'None', 'originalDefinitionId': 'e1906618-b1e6-4649-a159-1e382cc483c6'}, 'pauseDetails': {'pauseBeginTime': '2021-10-29T05:32:12.823', 'pauseEndTime': '0001-01-01T00:00:00', 'resumeBeginTime': '0001-01-01T00:00:00', 'resumeEndTime': '0001-01-01T00:00:00', 'guardrailTime': '2021-11-01T05:32:12.833'}, 'scheduledStatus': 'Draft'}\n"
     ]
    },
    {
     "name": "stdout",
     "output_type": "stream",
     "text": [
      "Journey: ('e1906618-b1e6-4649-a159-1e382cc483c6', 1) RESUMED SUCCESSFULLY!\n",
      "{'id': 'e1906618-b1e6-4649-a159-1e382cc483c6', 'key': 'efe39a6b-de1d-a04a-dd3f-e546e67150a1', 'name': 'test_2910', 'lastPublishedDate': '2021-10-29T03:44:48', 'description': '', 'version': 1, 'workflowApiVersion': 1.0, 'createdDate': '2021-10-29T03:44:30.693', 'modifiedDate': '2021-10-29T05:37:18.123', 'activities': [{'id': '5a787041-a97c-48af-bc04-51d678d5775f', 'key': 'RANDOMSPLITV2-1', 'name': '', 'description': '', 'type': 'RANDOMSPLIT', 'outcomes': [{'key': 'branchResult-1', 'next': 'WAITBYDURATION-1', 'arguments': {'percentage': '33'}, 'metaData': {'label': '33%', 'pathName': 'Path 1', 'invalid': False}}, {'key': 'branchResult-2', 'next': 'WAITBYDURATION-2', 'arguments': {'percentage': '67'}, 'metaData': {'label': '67%', 'pathName': 'Path 2', 'invalid': False}}], 'arguments': {}, 'configurationArguments': {}, 'metaData': {'icon': '/extensions/activities/random-split/images/randomsplit.svg', 'iconSmall': '/extensions/activities/random-split/images/randomsplit.svg', 'category': 'flow', 'isConfigured': True, 'original_icon': '/extensions/activities/random-split/images/randomsplit.svg', 'original_iconSmall': '/extensions/activities/random-split/images/randomsplit.svg', 'original_statsContactIcon': '', 'statsContactIcon': ''}, 'schema': {'arguments': {'randomNumber': {'dataType': 'Number', 'isNullable': False, 'direction': 'Out', 'readOnly': False, 'access': 'Hidden'}, 'actualChoice': {'dataType': 'Number', 'isNullable': False, 'direction': 'Out', 'readOnly': False, 'access': 'Hidden'}}}}, {'id': 'd2610d11-66aa-444e-96d2-1c7526994c15', 'key': 'WAITBYDURATION-1', 'name': '', 'description': '', 'type': 'WAIT', 'outcomes': [{'key': '226ec6c2-866d-4993-9807-5584d3b38a90', 'arguments': {}, 'metaData': {'invalid': False}}], 'arguments': {'waitEndDateAttributeDataBound': '', 'waitDefinitionId': '9eeebe76-a833-49e2-b3f1-98d7bc45426e', 'waitForEventId': '', 'executionMode': '{{Context.ExecutionMode}}', 'startActivityKey': '{{Context.StartActivityKey}}', 'waitQueueId': '{{Context.WaitQueueId}}'}, 'configurationArguments': {'waitDuration': 1, 'waitUnit': 'DAYS', 'specifiedTime': '', 'timeZone': '', 'description': '', 'waitEndDateAttributeExpression': '', 'specificDate': '', 'waitForEventKey': ''}, 'metaData': {'isConfigured': True, 'uiType': 'WAITBYDURATION'}, 'schema': {'arguments': {'endDate': {'dataType': 'Date', 'isNullable': False, 'direction': 'Out', 'readOnly': False, 'access': 'Hidden'}, 'waitEndDateAttributeDataBound': {'dataType': 'Text', 'isNullable': True, 'direction': 'In', 'readOnly': False, 'access': 'Hidden'}, 'waitDefinitionId': {'dataType': 'Text', 'isNullable': False, 'direction': 'In', 'readOnly': False, 'access': 'Hidden'}, 'waitForEventId': {'dataType': 'Text', 'isNullable': True, 'direction': 'In', 'readOnly': False, 'access': 'Hidden'}, 'executionMode': {'dataType': 'Text', 'isNullable': False, 'direction': 'In', 'readOnly': False, 'access': 'Hidden'}, 'startActivityKey': {'dataType': 'Text', 'isNullable': True, 'direction': 'In', 'readOnly': False, 'access': 'Hidden'}, 'waitQueueId': {'dataType': 'LongNumber', 'isNullable': True, 'direction': 'In', 'readOnly': False, 'access': 'Hidden'}}}}, {'id': '1df29011-071f-40cc-875f-617b5facaed0', 'key': 'WAITBYDURATION-2', 'name': '', 'description': '', 'type': 'WAIT', 'outcomes': [{'key': 'b2e62105-0537-4002-9095-5843125e78b5', 'arguments': {}, 'metaData': {'invalid': False}}], 'arguments': {'waitEndDateAttributeDataBound': '', 'waitDefinitionId': 'aa8b7bf9-6c0d-4260-b31f-f7d2fd4b696d', 'waitForEventId': '', 'executionMode': '{{Context.ExecutionMode}}', 'startActivityKey': '{{Context.StartActivityKey}}', 'waitQueueId': '{{Context.WaitQueueId}}'}, 'configurationArguments': {'waitDuration': 1, 'waitUnit': 'DAYS', 'specifiedTime': '', 'timeZone': '', 'description': '', 'waitEndDateAttributeExpression': '', 'specificDate': '', 'waitForEventKey': ''}, 'metaData': {'isConfigured': True, 'uiType': 'WAITBYDURATION'}, 'schema': {'arguments': {'endDate': {'dataType': 'Date', 'isNullable': False, 'direction': 'Out', 'readOnly': False, 'access': 'Hidden'}, 'waitEndDateAttributeDataBound': {'dataType': 'Text', 'isNullable': True, 'direction': 'In', 'readOnly': False, 'access': 'Hidden'}, 'waitDefinitionId': {'dataType': 'Text', 'isNullable': False, 'direction': 'In', 'readOnly': False, 'access': 'Hidden'}, 'waitForEventId': {'dataType': 'Text', 'isNullable': True, 'direction': 'In', 'readOnly': False, 'access': 'Hidden'}, 'executionMode': {'dataType': 'Text', 'isNullable': False, 'direction': 'In', 'readOnly': False, 'access': 'Hidden'}, 'startActivityKey': {'dataType': 'Text', 'isNullable': True, 'direction': 'In', 'readOnly': False, 'access': 'Hidden'}, 'waitQueueId': {'dataType': 'LongNumber', 'isNullable': True, 'direction': 'In', 'readOnly': False, 'access': 'Hidden'}}}}], 'triggers': [{'id': 'a2b21104-9d88-4a53-928e-d8168eef0c6b', 'key': 'TRIGGER', 'name': 'TRIGGER', 'description': '', 'type': 'EmailAudience', 'outcomes': [], 'arguments': {'startActivityKey': '{{Context.StartActivityKey}}', 'dequeueReason': '{{Context.DequeueReason}}', 'lastExecutedActivityKey': '{{Context.LastExecutedActivityKey}}', 'filterResult': 'true'}, 'configurationArguments': {'schemaVersionId': 0, 'criteria': '', 'filterDefinitionId': '00000000-0000-0000-0000-000000000000'}, 'metaData': {'eventDefinitionId': '71e7797f-f30b-4317-86da-e4150e351639', 'eventDefinitionKey': 'DEAudience-4a1ac331-4e53-5c7d-f7cd-4b1dc552a5dd', 'chainType': 'None', 'configurationRequired': False, 'iconUrl': '/images/icon-data-extension.svg', 'title': 'Data Extension', 'entrySourceGroupConfigUrl': 'jb:///data/entry/audience/entrysourcegroupconfig.json', 'sourceInteractionId': '00000000-0000-0000-0000-000000000000'}}], 'goals': [], 'exits': [], 'notifiers': [], 'stats': {'currentPopulation': 0, 'cumulativePopulation': 0, 'metGoal': 0, 'metExitCriteria': 0, 'goalPerformance': 0.0}, 'entryMode': 'OnceAndDone', 'definitionType': 'Multistep', 'channel': '', 'defaults': {'mobileNumber': ['{{Event.DEAudience-4a1ac331-4e53-5c7d-f7cd-4b1dc552a5dd.\"phone_number\"}}'], 'properties': {'analyticsTracking': {'enabled': False, 'analyticsType': 'google', 'urlDomainsToTrack': []}}}, 'metaData': {}, 'executionMode': 'Production', 'categoryId': 64168, 'status': 'Resuming', 'definitionId': 'e1906618-b1e6-4649-a159-1e382cc483c6', 'scheduledStatus': 'Draft'}\n"
     ]
    }
   ],
   "source": [
    "test.update_journey_version('e1906618-b1e6-4649-a159-1e382cc483c6', 1, 33)"
   ]
  },
  {
   "cell_type": "code",
   "execution_count": 13,
   "id": "526e81d2",
   "metadata": {},
   "outputs": [],
   "source": [
    "# version still persists although deleted (version 2 deleted but next version created is 3)\n",
    "# json.dumps(data) to make it a string - that was the key"
   ]
  }
 ],
 "metadata": {
  "kernelspec": {
   "display_name": "Python 3",
   "language": "python",
   "name": "python3"
  },
  "language_info": {
   "codemirror_mode": {
    "name": "ipython",
    "version": 3
   },
   "file_extension": ".py",
   "mimetype": "text/x-python",
   "name": "python",
   "nbconvert_exporter": "python",
   "pygments_lexer": "ipython3",
   "version": "3.7.3"
  }
 },
 "nbformat": 4,
 "nbformat_minor": 5
}
